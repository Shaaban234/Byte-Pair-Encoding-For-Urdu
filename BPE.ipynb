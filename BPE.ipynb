{
 "cells": [
  {
   "cell_type": "code",
   "execution_count": 14,
   "id": "012f5e0c",
   "metadata": {},
   "outputs": [],
   "source": [
    "f = open(r\"C:\\Users\\Shabaan\\Downloads\\ghalib.txt\", \"r\", encoding=\"utf-8\")\n",
    "token = f.read()\n",
    "f.close()"
   ]
  },
  {
   "cell_type": "code",
   "execution_count": 15,
   "id": "7d7e5c72",
   "metadata": {},
   "outputs": [
    {
     "data": {
      "text/plain": [
       "68846"
      ]
     },
     "execution_count": 15,
     "metadata": {},
     "output_type": "execute_result"
    }
   ],
   "source": [
    "tokens=list(token)\n",
    "len(tokens)"
   ]
  },
  {
   "cell_type": "code",
   "execution_count": 16,
   "id": "b32d70c1",
   "metadata": {},
   "outputs": [
    {
     "name": "stdout",
     "output_type": "stream",
     "text": [
      "[('ب', 'ا'), ('ا', 'ز'), ('ز', 'ی'), ('ی', 'چ'), ('چ', 'ۂ')]\n"
     ]
    }
   ],
   "source": [
    "pairs=list(zip(tokens,tokens[1:]))\n",
    "print(pairs[0:5])"
   ]
  },
  {
   "cell_type": "code",
   "execution_count": 17,
   "id": "ec678853",
   "metadata": {},
   "outputs": [
    {
     "name": "stdout",
     "output_type": "stream",
     "text": [
      "[((('ب', 'ا'), ('ا', 'ز')), 21), ((('ا', 'ز'), ('ز', 'ی')), 12), ((('ز', 'ی'), ('ی', 'چ')), 1), ((('ی', 'چ'), ('چ', 'ۂ')), 1), ((('چ', 'ۂ'), ('ۂ', ' ')), 5)]\n"
     ]
    }
   ],
   "source": [
    "def getpfreq(tokens):\n",
    "    counts = {}\n",
    "    for p in zip(tokens,tokens[1:]):\n",
    "        counts[p] = counts.get(p, 0) + 1  \n",
    "    return counts\n",
    "pf=getpfreq(pairs)\n",
    "print(list(pf.items())[:5])"
   ]
  },
  {
   "cell_type": "code",
   "execution_count": 18,
   "id": "da6fe894",
   "metadata": {},
   "outputs": [
    {
     "data": {
      "text/plain": [
       "(659, (('ی', 'ں'), ('ں', ' ')))"
      ]
     },
     "execution_count": 18,
     "metadata": {},
     "output_type": "execute_result"
    }
   ],
   "source": [
    "spf=sorted(((v, k) for k, v in pf.items()), reverse=True)\n",
    "spf[0]"
   ]
  },
  {
   "cell_type": "code",
   "execution_count": 19,
   "id": "6f0aca24",
   "metadata": {},
   "outputs": [],
   "source": [
    "def merge(cipher,pair,nt):\n",
    "    newcipher=[]\n",
    "    i=0\n",
    "    while i < len(cipher):\n",
    "        if i< len(cipher)-1 and cipher[i]==pair[0] and cipher[i+1]== pair[1]:\n",
    "            newcipher.append(nt)\n",
    "            i+=2\n",
    "        else:\n",
    "            newcipher.append(cipher[i])\n",
    "            i+=1\n",
    "    return newcipher"
   ]
  },
  {
   "cell_type": "code",
   "execution_count": 20,
   "id": "6c6cf336",
   "metadata": {},
   "outputs": [
    {
     "data": {
      "text/plain": [
       "[4, 5, 10, 10, 6, 4, 7, 8, 10, 7]"
      ]
     },
     "execution_count": 20,
     "metadata": {},
     "output_type": "execute_result"
    }
   ],
   "source": [
    "merge([4,5,6,5,6,5,6,4,7,8,6,5,7],[6,5],10)"
   ]
  },
  {
   "cell_type": "code",
   "execution_count": 30,
   "id": "667031f3",
   "metadata": {},
   "outputs": [],
   "source": [
    "vocab_size = 300\n",
    "num_merges = vocab_size - 256\n",
    "cipher = list(token.encode('utf-8'))"
   ]
  },
  {
   "cell_type": "code",
   "execution_count": 32,
   "id": "6a0f945e",
   "metadata": {},
   "outputs": [
    {
     "name": "stdout",
     "output_type": "stream",
     "text": [
      "merging (32, 216) into a new token256\n",
      "merging (216, 167) into a new token257\n",
      "merging (219, 140) into a new token258\n",
      "merging (219, 129) into a new token259\n",
      "merging (32, 217) into a new token260\n",
      "merging (216, 177) into a new token261\n",
      "merging (217, 136) into a new token262\n",
      "merging (218, 169) into a new token263\n",
      "merging (219, 146) into a new token264\n",
      "merging (32, 263) into a new token265\n",
      "merging (218, 186) into a new token266\n",
      "merging (217, 134) into a new token267\n",
      "merging (32, 259) into a new token268\n",
      "merging (217, 133) into a new token269\n",
      "merging (216, 170) into a new token270\n",
      "merging (217, 132) into a new token271\n",
      "merging (10, 10) into a new token272\n",
      "merging (216, 175) into a new token273\n",
      "merging (218, 190) into a new token274\n",
      "merging (260, 133) into a new token275\n",
      "merging (258, 266) into a new token276\n",
      "merging (218, 175) into a new token277\n",
      "merging (217, 144) into a new token278\n",
      "merging (260, 134) into a new token279\n",
      "merging (216, 168) into a new token280\n",
      "merging (216, 179) into a new token281\n",
      "merging (264, 256) into a new token282\n",
      "merging (256, 168) into a new token283\n",
      "merging (256, 167) into a new token284\n",
      "merging (256, 179) into a new token285\n",
      "merging (256, 170) into a new token286\n",
      "merging (257, 216) into a new token287\n",
      "merging (256, 175) into a new token288\n",
      "merging (258, 257) into a new token289\n",
      "merging (216, 180) into a new token290\n",
      "merging (268, 262) into a new token291\n",
      "merging (260, 190) into a new token292\n",
      "merging (226, 128) into a new token293\n",
      "merging (279, 259) into a new token294\n",
      "merging (216, 172) into a new token295\n",
      "merging (32, 277) into a new token296\n",
      "merging (293, 152) into a new token297\n",
      "merging (256, 172) into a new token298\n",
      "merging (260, 136) into a new token299\n",
      "[((32, 216), 256), ((216, 167), 257), ((219, 140), 258), ((219, 129), 259), ((32, 217), 260)]\n"
     ]
    }
   ],
   "source": [
    "def BPE(corpus,num_merges):\n",
    "    \n",
    "    merges={}\n",
    "    vocab = {t:bytes([t]) for t in range(256)}\n",
    "    newcipher = corpus\n",
    "    for i in range(num_merges):\n",
    "        \n",
    "        pf = getpfreq(newcipher)\n",
    "        mp = max(pf, key=pf.get)\n",
    "        nt = 256 + i\n",
    "        \n",
    "        print(f\"merging {mp} into a new token {nt}\")\n",
    "        newcipher = merge(newcipher,mp,nt)\n",
    "        merges[mp] = nt  \n",
    "\n",
    "        vocab[nt] = vocab[mp[0]] + vocab[mp[1]]\n",
    "\n",
    "        \n",
    "    return vocab,merges\n",
    "\n",
    "vocab , merges= BPE(cipher,num_merges)\n",
    "print(list(merges.items())[:5])"
   ]
  },
  {
   "cell_type": "code",
   "execution_count": 41,
   "id": "58aa2721",
   "metadata": {},
   "outputs": [],
   "source": [
    "def encode(text):\n",
    "    cipher = list(text.encode('utf-8'))\n",
    "    while len(cipher)>=2:\n",
    "        pf = getpfreq(cipher)\n",
    "        mp = min(pf, key=lambda p : merges.get(p,float('inf')))\n",
    "        if mp not in merges:\n",
    "            break\n",
    "        nt = merges[mp]\n",
    "        cipher = merge(cipher,mp,nt)\n",
    "    return cipher"
   ]
  },
  {
   "cell_type": "code",
   "execution_count": 42,
   "id": "993d0c73",
   "metadata": {},
   "outputs": [
    {
     "name": "stdout",
     "output_type": "stream",
     "text": [
      "[263, 289, 256, 173, 257, 271, 268, 264]\n"
     ]
    }
   ],
   "source": [
    "print(encode('کیا حال ہے'))"
   ]
  },
  {
   "cell_type": "code",
   "execution_count": 47,
   "id": "9ffa3ce4",
   "metadata": {},
   "outputs": [
    {
     "data": {
      "text/plain": [
       "'کیا حال�ے'"
      ]
     },
     "execution_count": 47,
     "metadata": {},
     "output_type": "execute_result"
    }
   ],
   "source": [
    "def decode(cipher):\n",
    "    text=b\"\".join(vocab[c] for c in cipher)\n",
    "    text = text.decode('utf-8', errors ='replace')\n",
    "    return text\n",
    "decode([263, 289, 256, 173, 257, 271, 128, 264])"
   ]
  },
  {
   "cell_type": "code",
   "execution_count": null,
   "id": "bd72398b",
   "metadata": {},
   "outputs": [],
   "source": []
  }
 ],
 "metadata": {
  "kernelspec": {
   "display_name": "Python 3 (ipykernel)",
   "language": "python",
   "name": "python3"
  },
  "language_info": {
   "codemirror_mode": {
    "name": "ipython",
    "version": 3
   },
   "file_extension": ".py",
   "mimetype": "text/x-python",
   "name": "python",
   "nbconvert_exporter": "python",
   "pygments_lexer": "ipython3",
   "version": "3.11.5"
  }
 },
 "nbformat": 4,
 "nbformat_minor": 5
}
